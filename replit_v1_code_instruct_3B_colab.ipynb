{
    "cells": [
      {
        "cell_type": "markdown",
        "metadata": {
          "id": "view-in-github"
        },
        "source": [
          "[![Open In Colab](https://colab.research.google.com/assets/colab-badge.svg)](https://colab.research.google.com/github/camenduru/Replit-v1-CodeInstruct-3B-colab/blob/main/replit_v1_code_instruct_3B_colab.ipynb)"
        ]
      },
      {
        "cell_type": "code",
        "execution_count": null,
        "metadata": {
          "id": "6NBZCEmD8UYZ"
        },
        "outputs": [],
        "source": [
          "# https://huggingface.co/spaces/teknium/Replit-v1-CodeInstruct-3B/tree/main modified\n",
          "!git clone -b dev https://github.com/camenduru/Replit-v1-CodeInstruct-3B-hf\n",
          "%cd Replit-v1-CodeInstruct-3B-hf\n",
          "!pip install -r requirements.txt\n",
          "!python app.py"
        ]
      }
    ],
    "metadata": {
      "accelerator": "GPU",
      "colab": {
        "gpuType": "T4",
        "provenance": []
      },
      "language_info": {
        "name": "python"
      },
      "orig_nbformat": 4,
      "kernelspec": {
        "name": "python3",
        "display_name": "Python 3"
      }
    },
    "nbformat": 4,
    "nbformat_minor": 0
  }